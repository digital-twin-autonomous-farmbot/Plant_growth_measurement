{
 "cells": [
  {
   "cell_type": "markdown",
   "id": "19de9dee",
   "metadata": {},
   "source": [
    "### rgb에만 있고 depth, color depth에 없는 파일 삭제하기"
   ]
  },
  {
   "cell_type": "code",
   "execution_count": 29,
   "id": "521cf8e1",
   "metadata": {},
   "outputs": [
    {
     "name": "stdout",
     "output_type": "stream",
     "text": [
      "0개의 depth, 0개의 color depth 삭제 완료\n",
      "rgb : 615개, depth : 615개, color_depth : 615개\n"
     ]
    }
   ],
   "source": [
    "import os\n",
    "import glob \n",
    "import shutil\n",
    "\n",
    "folder_list = sorted(list(filter(os.path.isdir,os.listdir(\"./\"))))\n",
    "\n",
    "for idx,name in enumerate(folder_list):\n",
    "    if name == 'color_depth':\n",
    "        color_depth_folder = str(folder_list[idx])\n",
    "        color_depth_folder_dir = './' + color_depth_folder\n",
    "        \n",
    "    elif name == 'depth':\n",
    "        depth_folder = str(folder_list[idx])\n",
    "        depth_folder_dir = './' + depth_folder\n",
    "        \n",
    "    elif name == 'rgb':\n",
    "        rgb_folder = str(folder_list[idx])\n",
    "        rgb_folder_dir = './' + rgb_folder\n",
    "        \n",
    "rgb_file_list = sorted(os.listdir(rgb_folder_dir))\n",
    "depth_file_list = sorted(os.listdir(depth_folder_dir))\n",
    "color_depth_file_list = sorted(os.listdir(color_depth_folder_dir))\n",
    "\n",
    "def createFolder(directory):\n",
    "    try:\n",
    "        if not os.path.exists(directory):\n",
    "            os.makedirs(directory)\n",
    "    except OSError:\n",
    "        print ('Error: Creating directory. ' +  directory)\n",
    "        \n",
    "root_path = './'\n",
    "\n",
    "deleted_rgb_files = root_path + 'rgb_deleted_files'\n",
    "deleted_depth_files = root_path + 'depth_deleted_files'\n",
    "deleted_color_depth_files = root_path + 'color_depth_deleted_files'\n",
    "\n",
    "if not os.path.isdir(deleted_rgb_files):\n",
    "    createFolder(deleted_rgb_files)\n",
    "    \n",
    "if not os.path.isdir(deleted_depth_files):\n",
    "    createFolder(deleted_depth_files)\n",
    "    \n",
    "if not os.path.isdir(deleted_color_depth_files):\n",
    "    createFolder(deleted_color_depth_files)\n",
    "\n",
    "cnt_depth = 0\n",
    "for name in depth_file_list:\n",
    "    o_name = name\n",
    "    name = name.split(\".\")[0].split(\"_\")\n",
    "    name = 'RGB' + '_' + name[1] + '_' + name[2] + '.png'\n",
    "    if name not in rgb_file_list:\n",
    "        depth_file_dir = os.path.join(depth_folder_dir, o_name)\n",
    "        dst_depth_dir = os.path.join(deleted_depth_files, o_name)\n",
    "        os.rename(depth_file_dir, dst_depth_dir)\n",
    "        cnt_depth += 1\n",
    "        \n",
    "cnt_cdepth = 0\n",
    "for name in color_depth_file_list:\n",
    "    o_name = name\n",
    "    name = name.split(\".\")[0].split(\"_\")\n",
    "    name = 'RGB' + '_' + name[1] + '_' + name[2] + '.png'\n",
    "    if name not in rgb_file_list:\n",
    "        colordepth_file_dir = os.path.join(color_depth_folder_dir, o_name)\n",
    "        dst_colordepth_dir = os.path.join(deleted_color_depth_files, o_name)\n",
    "        os.rename(colordepth_file_dir, dst_colordepth_dir)\n",
    "        cnt_cdepth += 1\n",
    "        \n",
    "cnt_rgb = 0\n",
    "for name in rgb_file_list:\n",
    "    o_name = name\n",
    "    name = name.split(\".\")[0].split(\"_\")\n",
    "    name = 'dist' + '_' + name[1] + '_' + name[2] + '.csv'\n",
    "    \n",
    "    if name not in depth_file_list:\n",
    "        rgb_file_dir = os.path.join(rgb_folder_dir, o_name)\n",
    "        dst_rgb_dir = os.path.join(deleted_rgb_files, o_name)\n",
    "        os.rename(rgb_file_dir, dst_rgb_dir)\n",
    "        cnt_rgb += 1\n",
    "\n",
    "rgb_file_list = sorted(os.listdir(rgb_folder_dir))\n",
    "depth_file_list = sorted(os.listdir(depth_folder_dir))\n",
    "color_depth_file_list = sorted(os.listdir(color_depth_folder_dir))\n",
    "\n",
    "print(\"{}개의 depth, {}개의 color depth 삭제 완료\".format(cnt_depth, cnt_cdepth))\n",
    "print(\"rgb : {}개, depth : {}개, color_depth : {}개\".format(len(rgb_file_list), len(depth_file_list), len(color_depth_file_list)))\n",
    "      "
   ]
  }
 ],
 "metadata": {
  "kernelspec": {
   "display_name": "Python 3 (ipykernel)",
   "language": "python",
   "name": "python3"
  },
  "language_info": {
   "codemirror_mode": {
    "name": "ipython",
    "version": 3
   },
   "file_extension": ".py",
   "mimetype": "text/x-python",
   "name": "python",
   "nbconvert_exporter": "python",
   "pygments_lexer": "ipython3",
   "version": "3.9.12"
  }
 },
 "nbformat": 4,
 "nbformat_minor": 5
}
