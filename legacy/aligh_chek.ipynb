{
 "cells": [
  {
   "cell_type": "code",
   "execution_count": 2,
   "metadata": {
    "scrolled": true
   },
   "outputs": [
    {
     "name": "stdout",
     "output_type": "stream",
     "text": [
      "지울 경로 : ./NewData_0608/images/train/RGB_20220531v5_106_png.rf.7bf710c34e7c55a08b25fe70d56891b0.jpg\n"
     ]
    }
   ],
   "source": [
    "from email import header\n",
    "from PIL import Image #image 파일 열기\n",
    "import os #주소로 폴더 열기\n",
    "import cv2\n",
    "import glob\n",
    "import shutil\n",
    "import csv\n",
    "import pandas as pd\n",
    "import keyboard\n",
    "from pandas import read_csv\n",
    "\n",
    "root_path = './Data20220531'\n",
    "\n",
    "rgb_dir = root_path + \"/rgb\"\n",
    "depth_dir = root_path + \"/depth\"\n",
    "color_depth_dir = root_path + \"/color_depth\"\n",
    "\n",
    "rgb_files = sorted(os.listdir(rgb_dir))\n",
    "depth_files = sorted(os.listdir(color_depth_dir))\n",
    "\n",
    "labeled_path = './NewData_0608'\n",
    "labeled_rgb_dir1 = labeled_path + \"/images/test\"\n",
    "labeled_rgb_dir2 = labeled_path + \"/images/train\"\n",
    "labeled_rgb_dir3 = labeled_path + \"/images/valid\"\n",
    "\n",
    "\n",
    "labeled_rgb_files1 = sorted(os.listdir(labeled_rgb_dir1))\n",
    "labeled_rgb_files2 = sorted(os.listdir(labeled_rgb_dir2))\n",
    "labeled_rgb_files3 = sorted(os.listdir(labeled_rgb_dir3))\n",
    "\n",
    "labeled_rgb_files = labeled_rgb_files1 + labeled_rgb_files2 + labeled_rgb_files3\n",
    "\n",
    "labeled_rgb_whole_dir1 = labeled_path + \"/images/test/*\"\n",
    "labeled_rgb_whole_dir2 = labeled_path + \"/images/train/*\"\n",
    "labeled_rgb_whole_dir3 = labeled_path + \"/images/valid/*\"\n",
    "\n",
    "\n",
    "labeled_rgb_files1 = sorted(glob.glob(labeled_rgb_whole_dir1))\n",
    "labeled_rgb_files2 = sorted(glob.glob(labeled_rgb_whole_dir2))\n",
    "labeled_rgb_files3 = sorted(glob.glob(labeled_rgb_whole_dir3))\n",
    "\n",
    "\n",
    "labeled_whole_dir = sorted(labeled_rgb_files1+labeled_rgb_files2+labeled_rgb_files3)\n",
    "\n",
    "\n",
    "for i in range(len(rgb_files)):\n",
    "    rgb_file_dir = os.path.join(rgb_dir, rgb_files[i])\n",
    "    depth_file_dir = os.path.join(color_depth_dir, depth_files[i])\n",
    "    \n",
    "    rgb = cv2.imread(rgb_file_dir, cv2.IMREAD_COLOR)\n",
    "    c_depth = cv2.imread(depth_file_dir, cv2.IMREAD_COLOR)\n",
    "    \n",
    "    check_allign = cv2.addWeighted(rgb,1,c_depth,1,0)\n",
    "    \n",
    "    cv2.imshow(\"%s\"%(rgb_file_dir), check_allign)\n",
    "    \n",
    "    while True:\n",
    "        k = cv2.waitKey()\n",
    "        if k == ord('d') or k == ord('D'):\n",
    "            for j in labeled_whole_dir:\n",
    "                if rgb_files[i].replace(\".\", \"_\") in j:\n",
    "                    print(\"지울 경로 :\", j)\n",
    "                    f = open('deleted_images.txt', 'a')\n",
    "                    f.write(\"%s\\n\"%(rgb_files[i]))\n",
    "                    os.remove(j)\n",
    "            break\n",
    "        elif k == 32:\n",
    "                break\n",
    "    cv2.destroyAllWindows()\n"
   ]
  },
  {
   "cell_type": "code",
   "execution_count": 3,
   "metadata": {},
   "outputs": [
    {
     "name": "stdout",
     "output_type": "stream",
     "text": [
      "464\n",
      "425\n"
     ]
    }
   ],
   "source": [
    "print(len(rgb_files))\n",
    "print(len(depth_files))"
   ]
  },
  {
   "cell_type": "code",
   "execution_count": null,
   "metadata": {
    "scrolled": true
   },
   "outputs": [],
   "source": [
    "for i in rgb_files:\n",
    "    for j in labeled_whole_dir:\n",
    "        if i.replace(\".\", \"_\") in j:\n",
    "            print(i)\n",
    "            print(j)\n"
   ]
  },
  {
   "cell_type": "code",
   "execution_count": null,
   "metadata": {},
   "outputs": [],
   "source": [
    "print(rgb_files[-3].replace(\".\", \"_\") in labeled_whole_dir[-1].split(\"/\")[-1].split(\".\"))\n",
    "print(rgb_files[-3] , labeled_whole_dir[-1].split(\"/\")[-1].split(\".\"))\n",
    "\n",
    "print(rgb_files[-3].replace(\".\", \"_\"))\n"
   ]
  }
 ],
 "metadata": {
  "kernelspec": {
   "display_name": "practice1",
   "language": "python",
   "name": "practice1"
  },
  "language_info": {
   "codemirror_mode": {
    "name": "ipython",
    "version": 3
   },
   "file_extension": ".py",
   "mimetype": "text/x-python",
   "name": "python",
   "nbconvert_exporter": "python",
   "pygments_lexer": "ipython3",
   "version": "3.8.5"
  }
 },
 "nbformat": 4,
 "nbformat_minor": 4
}
