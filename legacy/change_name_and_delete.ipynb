{
 "cells": [
  {
   "cell_type": "markdown",
   "metadata": {},
   "source": [
    "##### 사용된 dir:\n",
    "/home/vision/Desktop/KimTaeHyeong/2.Study/Code/SmartFarmBot_cucumber/preprocessing/Yolo_mark/x64/Release/data/label_backup"
   ]
  },
  {
   "cell_type": "code",
   "execution_count": 21,
   "metadata": {},
   "outputs": [],
   "source": [
    "import os\n",
    "file_path = './'\n",
    "file_names = os.listdir(file_path)\n",
    "\n",
    "def change_name(input_img):\n",
    "    img = input_img\n",
    "#     ub = '_'\n",
    "#     img = input_img.split(\".\")\n",
    "#     img = img[0].split(\"_\")\n",
    "#     img = 'rgb_' + img[1] + ub + img[2] + ub + img[3] + '.txt' \n",
    "    return img"
   ]
  },
  {
   "cell_type": "markdown",
   "metadata": {},
   "source": [
    "### 1. Change Name"
   ]
  },
  {
   "cell_type": "code",
   "execution_count": 8,
   "metadata": {},
   "outputs": [],
   "source": [
    "for old_name in file_names:\n",
    "    if old_name == \"Untitled.ipynb\":\n",
    "        pass\n",
    "    elif len(old_name.split(\".\")[0].split(\"_\")) >= 3:\n",
    "#         print(old_name)\n",
    "        new_name = change_name(old_name)\n",
    "        \n",
    "        src = os.path.join(file_path, old_name)\n",
    "        dst = os.path.join(file_path, new_name)\n",
    "        \n",
    "        os.rename(src,dst)\n",
    "        \n",
    "        size = os.path.getsize(new_name)\n",
    "        \n",
    "        file_names_new[new_name] = size\n",
    "        \n",
    "\n",
    "        "
   ]
  },
  {
   "cell_type": "code",
   "execution_count": 9,
   "metadata": {},
   "outputs": [
    {
     "name": "stdout",
     "output_type": "stream",
     "text": [
      "{'change_name_and_delete.ipynb': 4870}\n"
     ]
    }
   ],
   "source": [
    "print(file_names_new)"
   ]
  },
  {
   "cell_type": "markdown",
   "metadata": {},
   "source": [
    "### 2. File Delete"
   ]
  },
  {
   "cell_type": "code",
   "execution_count": 25,
   "metadata": {
    "scrolled": true
   },
   "outputs": [
    {
     "name": "stdout",
     "output_type": "stream",
     "text": [
      "{'RGB_20220621_0.txt': 0, 'RGB_20220621_1.txt': 152, 'RGB_20220621_10.txt': 38, 'RGB_20220621_100.txt': 76, 'RGB_20220621_101.txt': 152, 'RGB_20220621_102.txt': 114, 'RGB_20220621_103.txt': 76, 'RGB_20220621_104.txt': 114, 'RGB_20220621_105.txt': 114, 'RGB_20220621_106.txt': 76, 'RGB_20220621_107.txt': 0, 'RGB_20220621_108.txt': 0, 'RGB_20220621_109.txt': 0, 'RGB_20220621_11.txt': 0, 'RGB_20220621_110.txt': 0, 'RGB_20220621_111.txt': 0, 'RGB_20220621_112.txt': 76, 'RGB_20220621_113.txt': 152, 'RGB_20220621_114.txt': 0, 'RGB_20220621_115.txt': 0, 'RGB_20220621_116.txt': 114, 'RGB_20220621_117.txt': 0, 'RGB_20220621_118.txt': 38, 'RGB_20220621_119.txt': 76, 'RGB_20220621_12.txt': 0, 'RGB_20220621_120.txt': 76, 'RGB_20220621_121.txt': 0, 'RGB_20220621_122.txt': 38, 'RGB_20220621_123.txt': 0, 'RGB_20220621_124.txt': 0, 'RGB_20220621_125.txt': 0, 'RGB_20220621_126.txt': 0, 'RGB_20220621_127.txt': 0, 'RGB_20220621_128.txt': 76, 'RGB_20220621_129.txt': 38, 'RGB_20220621_13.txt': 0, 'RGB_20220621_130.txt': 0, 'RGB_20220621_131.txt': 0, 'RGB_20220621_132.txt': 0, 'RGB_20220621_133.txt': 0, 'RGB_20220621_134.txt': 0, 'RGB_20220621_135.txt': 0, 'RGB_20220621_136.txt': 0, 'RGB_20220621_137.txt': 0, 'RGB_20220621_138.txt': 0, 'RGB_20220621_139.txt': 0, 'RGB_20220621_14.txt': 76, 'RGB_20220621_140.txt': 38, 'RGB_20220621_141.txt': 38, 'RGB_20220621_142.txt': 0, 'RGB_20220621_143.txt': 0, 'RGB_20220621_15.txt': 76, 'RGB_20220621_16.txt': 76, 'RGB_20220621_17.txt': 76, 'RGB_20220621_18.txt': 0, 'RGB_20220621_19.txt': 76, 'RGB_20220621_2.txt': 0, 'RGB_20220621_20.txt': 76, 'RGB_20220621_21.txt': 76, 'RGB_20220621_22.txt': 76, 'RGB_20220621_23.txt': 76, 'RGB_20220621_24.txt': 76, 'RGB_20220621_25.txt': 76, 'RGB_20220621_26.txt': 76, 'RGB_20220621_27.txt': 76, 'RGB_20220621_28.txt': 0, 'RGB_20220621_29.txt': 0, 'RGB_20220621_3.txt': 0, 'RGB_20220621_30.txt': 76, 'RGB_20220621_31.txt': 76, 'RGB_20220621_32.txt': 0, 'RGB_20220621_33.txt': 0, 'RGB_20220621_34.txt': 0, 'RGB_20220621_35.txt': 0, 'RGB_20220621_36.txt': 0, 'RGB_20220621_37.txt': 0, 'RGB_20220621_38.txt': 0, 'RGB_20220621_39.txt': 76, 'RGB_20220621_4.txt': 76, 'RGB_20220621_40.txt': 0, 'RGB_20220621_41.txt': 0, 'RGB_20220621_42.txt': 0, 'RGB_20220621_43.txt': 0, 'RGB_20220621_44.txt': 0, 'RGB_20220621_45.txt': 0, 'RGB_20220621_46.txt': 0, 'RGB_20220621_47.txt': 76, 'RGB_20220621_48.txt': 38, 'RGB_20220621_49.txt': 38, 'RGB_20220621_5.txt': 0, 'RGB_20220621_50.txt': 76, 'RGB_20220621_51.txt': 114, 'RGB_20220621_52.txt': 38, 'RGB_20220621_53.txt': 0, 'RGB_20220621_54.txt': 38, 'RGB_20220621_55.txt': 0, 'RGB_20220621_56.txt': 38, 'RGB_20220621_57.txt': 76, 'RGB_20220621_58.txt': 76, 'RGB_20220621_59.txt': 76, 'RGB_20220621_6.txt': 0, 'RGB_20220621_60.txt': 76, 'RGB_20220621_61.txt': 0, 'RGB_20220621_62.txt': 0, 'RGB_20220621_63.txt': 0, 'RGB_20220621_64.txt': 0, 'RGB_20220621_65.txt': 38, 'RGB_20220621_66.txt': 76, 'RGB_20220621_67.txt': 38, 'RGB_20220621_68.txt': 38, 'RGB_20220621_69.txt': 38, 'RGB_20220621_7.txt': 0, 'RGB_20220621_70.txt': 38, 'RGB_20220621_71.txt': 38, 'RGB_20220621_72.txt': 0, 'RGB_20220621_73.txt': 0, 'RGB_20220621_74.txt': 0, 'RGB_20220621_75.txt': 0, 'RGB_20220621_76.txt': 0, 'RGB_20220621_77.txt': 0, 'RGB_20220621_78.txt': 0, 'RGB_20220621_79.txt': 0, 'RGB_20220621_8.txt': 76, 'RGB_20220621_80.txt': 0, 'RGB_20220621_81.txt': 0, 'RGB_20220621_82.txt': 0, 'RGB_20220621_83.txt': 0, 'RGB_20220621_84.txt': 0, 'RGB_20220621_85.txt': 0, 'RGB_20220621_86.txt': 0, 'RGB_20220621_87.txt': 0, 'RGB_20220621_88.txt': 114, 'RGB_20220621_89.txt': 0, 'RGB_20220621_9.txt': 114, 'RGB_20220621_90.txt': 0, 'RGB_20220621_91.txt': 0, 'RGB_20220621_92.txt': 76, 'RGB_20220621_93.txt': 76, 'RGB_20220621_94.txt': 228, 'RGB_20220621_95.txt': 304, 'RGB_20220621_96.txt': 0, 'RGB_20220621_97.txt': 380, 'RGB_20220621_98.txt': 0, 'RGB_20220621_99.txt': 76}\n"
     ]
    }
   ],
   "source": [
    "img_dir = './img'\n",
    "file_names = sorted(os.listdir(img_dir))\n",
    "file_names_new = {}\n",
    "for txt in file_names:\n",
    "    if 'txt' in txt:\n",
    "        txt_dir = os.path.join(img_dir, txt)\n",
    "        size = os.path.getsize(txt_dir)\n",
    "        file_names_new[txt] = size\n",
    "print(file_names_new)"
   ]
  },
  {
   "cell_type": "code",
   "execution_count": 28,
   "metadata": {},
   "outputs": [
    {
     "name": "stdout",
     "output_type": "stream",
     "text": [
      "['RGB', '20220621', '0']\n",
      "RGB_20220621_0.txt\n"
     ]
    }
   ],
   "source": [
    "print(delete_file)\n",
    "print(key)"
   ]
  },
  {
   "cell_type": "code",
   "execution_count": 32,
   "metadata": {
    "scrolled": true
   },
   "outputs": [
    {
     "name": "stdout",
     "output_type": "stream",
     "text": [
      "idx : 0, folder name : .ipynb_checkpoints\n",
      "idx : 1, folder name : New_0620\n",
      "idx : 2, folder name : blur100_img\n",
      "idx : 3, folder name : blur21_img\n",
      "idx : 4, folder name : blur9_img\n",
      "idx : 5, folder name : img\n",
      "idx : 6, folder name : label_backup\n",
      "idx : 7, folder name : label_backup (copy)\n",
      "idx : 8, folder name : rgb_img\n",
      "idx : 9, folder name : subtr_img\n",
      "\n",
      "img process할 폴더 입력(size 0인 이미지 삭제) :5\n",
      "지울 img 개수 : 79\n",
      "158\n"
     ]
    }
   ],
   "source": [
    "delete_files = []\n",
    "k = 0 # file 이름 따라 바꿔줘야 함\n",
    "for key,value in file_names_new.items():\n",
    "    if value == 0:\n",
    "        delete_file = key.split(\".\")[0].split(\"_\")\n",
    "        delete_file = delete_file[k] + \"_\" + delete_file[k+1] + \"_\" + delete_file[k+2]\n",
    "#         delete_file = key\n",
    "        delete_files.append(delete_file)\n",
    "        \n",
    "#         print(key, value)\n",
    "\n",
    "folder_list = sorted(list(filter(os.path.isdir,os.listdir(\"./\"))))\n",
    "for idx,i in enumerate(folder_list):\n",
    "    print(\"idx : {}, folder name : {}\".format(idx, i))\n",
    "n = int(input(\"\\nimg process할 폴더 입력(size 0인 이미지 삭제) :\"))\n",
    "\n",
    "target_folder = str(folder_list[n])\n",
    "target_folder_dir = './' + target_folder\n",
    "\n",
    "img_files = os.listdir(target_folder_dir)\n",
    "img_files_dir = []\n",
    "\n",
    "for i in img_files:\n",
    "    img_dir = target_folder_dir + \"/\" + str(i)\n",
    "    img_files_dir.append(img_dir)\n",
    "\n",
    "print(\"지울 img 개수 :\", len(delete_files))\n",
    "deleted = []\n",
    "cnt = 0\n",
    "for i in delete_files:\n",
    "#     print(\"i:\", i)\n",
    "    for j in img_files_dir:\n",
    "#         print('j:', j)\n",
    "        compare = j.split(\"/\")[2].split(\".\")[0].split(\"_\")\n",
    "        compare = compare[k] + \"_\" + compare[k+1] + \"_\" + compare[k+2]\n",
    "        if str(i) == compare and os.path.isfile(j):\n",
    "            if j in deleted:\n",
    "                pass\n",
    "            else:\n",
    "                deleted.append(j)\n",
    "                cnt += 1\n",
    "                os.remove(j)\n",
    "print(cnt)"
   ]
  },
  {
   "cell_type": "code",
   "execution_count": 31,
   "metadata": {},
   "outputs": [
    {
     "name": "stdout",
     "output_type": "stream",
     "text": [
      "RGB_20220621_0.txt ./img/RGB_20220621_39.txt\n",
      "['RGB', '20220621', '39']\n"
     ]
    }
   ],
   "source": [
    "print(i,j)\n",
    "print(compare)"
   ]
  },
  {
   "cell_type": "code",
   "execution_count": 15,
   "metadata": {},
   "outputs": [
    {
     "name": "stdout",
     "output_type": "stream",
     "text": [
      "[]\n"
     ]
    }
   ],
   "source": [
    "print(delete_files)"
   ]
  }
 ],
 "metadata": {
  "kernelspec": {
   "display_name": "Python 3",
   "language": "python",
   "name": "python3"
  },
  "language_info": {
   "codemirror_mode": {
    "name": "ipython",
    "version": 3
   },
   "file_extension": ".py",
   "mimetype": "text/x-python",
   "name": "python",
   "nbconvert_exporter": "python",
   "pygments_lexer": "ipython3",
   "version": "3.6.9"
  }
 },
 "nbformat": 4,
 "nbformat_minor": 4
}
