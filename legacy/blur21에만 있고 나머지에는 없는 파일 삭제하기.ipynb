{
 "cells": [
  {
   "cell_type": "markdown",
   "id": "19de9dee",
   "metadata": {},
   "source": [
    "### rgb에만 있고 depth, color depth에 없는 파일 삭제하기"
   ]
  },
  {
   "cell_type": "code",
   "execution_count": 2,
   "id": "87f0ea88",
   "metadata": {},
   "outputs": [],
   "source": [
    "import os\n",
    "import glob \n",
    "import shutil\n",
    "\n",
    "images_folder_dir = './blur21/images'\n",
    "labels_folder_dir = './blur21/labels'\n",
    "        \n",
    "images_file_list = sorted(os.listdir(images_folder_dir))\n",
    "labels_file_list = sorted(os.listdir(labels_folder_dir))\n",
    "\n",
    "def createFolder(directory):\n",
    "    try:\n",
    "        if not os.path.exists(directory):\n",
    "            os.makedirs(directory)\n",
    "    except OSError:\n",
    "        print ('Error: Creating directory. ' +  directory)\n",
    "        \n",
    "root_path = './'\n",
    "\n",
    "deleted_images_files = root_path + 'images_deleted_files'\n",
    "deleted_labels_files = root_path + 'labels_deleted_files'\n",
    "\n",
    "if not os.path.isdir(deleted_images_files):\n",
    "    createFolder(deleted_images_files)\n",
    "    \n",
    "if not os.path.isdir(deleted_labels_files):\n",
    "    createFolder(deleted_labels_files)\n",
    "    \n",
    "print(len(images_file_list))\n",
    "print(len(labels_file_list))"
   ]
  },
  {
   "cell_type": "code",
   "execution_count": 19,
   "id": "521cf8e1",
   "metadata": {},
   "outputs": [
    {
     "name": "stdout",
     "output_type": "stream",
     "text": [
      "blur9에서 0개의 images, 0개의 labels 삭제 완료\n",
      "blur100에서 0개의 images, 0개의 labels 삭제 완료\n",
      "greyAbs에서 55개의 images, 0개의 labels 삭제 완료\n"
     ]
    }
   ],
   "source": [
    "blur9 = 'blur9'\n",
    "blur100 = 'blur100'\n",
    "greyAbs = 'greyAbs'\n",
    "\n",
    "folders = [blur9, blur100, greyAbs]\n",
    "\n",
    "\n",
    "for folder in folders:\n",
    "    cnt_images = 0\n",
    "    cnt_labels = 0\n",
    "    target_images_folder_dir = './' + folder + '/images'\n",
    "    target_labels_folder_dir = './' + folder + '/labels'\n",
    "    target_images = sorted(os.listdir(target_images_folder_dir))\n",
    "    target_labels = sorted(os.listdir(target_labels_folder_dir))\n",
    "    for image in target_images:\n",
    "        image_name = image.split(\"_\")[1:4]\n",
    "        image_name = 'blur21_' + \"_\".join(image_name)\n",
    "        if image_name not in images_file_list:\n",
    "            src_dir = os.path.join(target_images_folder_dir, image)\n",
    "            dst_dir = os.path.join(deleted_images_files,image)\n",
    "            os.rename(src_dir, dst_dir)\n",
    "            cnt_images += 1\n",
    "            \n",
    "    for label in target_labels:\n",
    "        label_name = label.split(\"_\")[1:3]\n",
    "        label_name = 'blur21_' + \"_\".join(label_name) + '.txt'\n",
    "        if label_name not in labels_file_list:\n",
    "            src_dir = os.path.join(target_labels_folder_dir, label)\n",
    "            dst_dir = os.path.join(deleted_labels_files,label)\n",
    "            os.rename(src_dir, dst_dir)\n",
    "            cnt_labels += 1\n",
    "    print(\"{}에서 {}개의 images, {}개의 labels 삭제 완료\".format(folder,cnt_images, cnt_labels))\n",
    "      "
   ]
  }
 ],
 "metadata": {
  "kernelspec": {
   "display_name": "Python 3",
   "language": "python",
   "name": "python3"
  },
  "language_info": {
   "codemirror_mode": {
    "name": "ipython",
    "version": 3
   },
   "file_extension": ".py",
   "mimetype": "text/x-python",
   "name": "python",
   "nbconvert_exporter": "python",
   "pygments_lexer": "ipython3",
   "version": "3.6.9"
  }
 },
 "nbformat": 4,
 "nbformat_minor": 5
}
